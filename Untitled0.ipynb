{
  "nbformat": 4,
  "nbformat_minor": 0,
  "metadata": {
    "colab": {
      "provenance": [],
      "authorship_tag": "ABX9TyMxZvWJn95lTlUcW+4AJpkX",
      "include_colab_link": true
    },
    "kernelspec": {
      "name": "python3",
      "display_name": "Python 3"
    },
    "language_info": {
      "name": "python"
    }
  },
  "cells": [
    {
      "cell_type": "markdown",
      "metadata": {
        "id": "view-in-github",
        "colab_type": "text"
      },
      "source": [
        "<a href=\"https://colab.research.google.com/github/Dallan-David/Building_IAs/blob/main/Untitled0.ipynb\" target=\"_parent\"><img src=\"https://colab.research.google.com/assets/colab-badge.svg\" alt=\"Open In Colab\"/></a>"
      ]
    },
    {
      "cell_type": "code",
      "execution_count": null,
      "metadata": {
        "id": "8GN9xX5qchlH"
      },
      "outputs": [],
      "source": [
        "# Machine Learning\n",
        "# Tráfico de automoviles\n",
        "from sklearn.linear_model import LinearRegression\n",
        "import numpy as np\n",
        "\n",
        "# Variables (numero de coches, hora)\n",
        "número_de_coches=np.array([[30], [40], [50], [60], [70], [80], [90]])\n",
        "hora=np.array([[1000], [1100], [1200], [1300], [1400], [1500], [1600]])\n",
        "\n",
        "# Modelo\n",
        "modelo=LinearRegression()\n",
        "modelo.fit(número_de_coches, hora)\n",
        "\n",
        "prediction1=modelo.predict(np.array([[150]]))\n",
        "print(f\"Predicción para número de coches: {prediction1} \")\n"
      ]
    }
  ]
}